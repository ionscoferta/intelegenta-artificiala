{
 "cells": [
  {
   "cell_type": "code",
   "execution_count": 13,
   "id": "66ac4dd3",
   "metadata": {
    "scrolled": true
   },
   "outputs": [
    {
     "name": "stdout",
     "output_type": "stream",
     "text": [
      "a=5\n",
      "b=5\n",
      "c=5\n",
      "Ecuatia nu are solutie\n"
     ]
    }
   ],
   "source": [
    "# Solutie de ecuatii de gradul 2\n",
    "a=int(input('a='))\n",
    "b=int(input('b='))\n",
    "c=int(input('c='))\n",
    "d=b**2-4*a*c\n",
    "import math\n",
    "if d>0:\n",
    "    x1=-(b-math.sqrt(d))/(2*a)\n",
    "    x2=-(b+math.sqrt(d))/(2*a)\n",
    "    print('x1=',x1, 'x2=', x2 )\n",
    "elif d==0:\n",
    "    x1=x2=-b/(2*a)\n",
    "    print('x1=x2=', x1)\n",
    "else:\n",
    "    print('Ecuatia nu are solutie')"
   ]
  },
  {
   "cell_type": "code",
   "execution_count": 19,
   "id": "671e213f",
   "metadata": {},
   "outputs": [
    {
     "name": "stdout",
     "output_type": "stream",
     "text": [
      "x1=1\n",
      "y1=1\n",
      "x2=3\n",
      "y2=4\n",
      "dp= 3.605551275463989\n"
     ]
    }
   ],
   "source": [
    "# Distanta dintre doua puncte\n",
    "x1=int(input('x1='))\n",
    "y1=int(input('y1='))\n",
    "x2=int(input('x2='))\n",
    "y2=int(input('y2='))\n",
    "dp=math.sqrt((x1-x2)**2+(y1-y2)**2)\n",
    "print('dp=',dp)"
   ]
  },
  {
   "cell_type": "code",
   "execution_count": null,
   "id": "26dc58ee",
   "metadata": {},
   "outputs": [],
   "source": []
  },
  {
   "cell_type": "code",
   "execution_count": null,
   "id": "d7751f08",
   "metadata": {},
   "outputs": [],
   "source": []
  }
 ],
 "metadata": {
  "kernelspec": {
   "display_name": "Python 3 (ipykernel)",
   "language": "python",
   "name": "python3"
  },
  "language_info": {
   "codemirror_mode": {
    "name": "ipython",
    "version": 3
   },
   "file_extension": ".py",
   "mimetype": "text/x-python",
   "name": "python",
   "nbconvert_exporter": "python",
   "pygments_lexer": "ipython3",
   "version": "3.7.9"
  }
 },
 "nbformat": 4,
 "nbformat_minor": 5
}
